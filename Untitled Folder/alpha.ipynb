{
 "cells": [
  {
   "cell_type": "code",
   "execution_count": 1,
   "metadata": {},
   "outputs": [],
   "source": [
    "import pandas as pd\n",
    "import matplotlib.pyplot as plt\n",
    "import seaborn as sns\n",
    "import os\n",
    "from datetime import datetime "
   ]
  },
  {
   "cell_type": "code",
   "execution_count": 2,
   "metadata": {},
   "outputs": [],
   "source": [
    "def proper_index(df):\n",
    "    df['datetime'] = pd.to_datetime(df['datetime_beginning_ept'])\n",
    "    df['datetime'] = df.datetime.dt.strftime('%m/%d/%y %H:%M')\n",
    "    df = df.set_index('datetime')\n",
    "    df = df.drop(['datetime_beginning_utc', 'datetime_beginning_ept'], axis=1)\n",
    "    return df\n",
    "\n",
    "def missing_values(df):\n",
    "    missing = pd.concat([df.isnull().sum(), 100 * df.isnull().mean()], axis=1)\n",
    "    missing.columns=(['count', '%'])\n",
    "    missing.sort_values(by='count', ascending=False)\n",
    "    return missing "
   ]
  },
  {
   "cell_type": "code",
   "execution_count": 3,
   "metadata": {},
   "outputs": [],
   "source": [
    "pepco_july = pd.read_csv('../Pepco/rt_hrl_lmps_jul_pepco.csv')\n",
    "pepco_aug = pd.read_csv('../Pepco/rt_hrl_lmps_aug_pepco.csv')\n",
    "pepco_sep =pd.read_csv('../Pepco/rt_hrl_lmps_sep_pepco.csv')\n",
    "\n",
    "pnode_state = pd.read_excel('../pnode-by-state.xls', header=6)\n",
    "\n",
    "solar = pd.read_csv('../solar_gen.csv')\n",
    "wind = pd.read_csv('../wind_gen.csv')\n",
    "\n",
    "fuel_aug=pd.read_csv('../Fuel Type/gen_by_fuel_aug.csv')\n",
    "fuel_july=pd.read_csv('../Fuel Type/gen_by_fuel_jul.csv')\n",
    "fuel_sep=pd.read_csv('../Fuel Type/gen_by_fuel_sep.csv')"
   ]
  },
  {
   "cell_type": "code",
   "execution_count": 4,
   "metadata": {},
   "outputs": [
    {
     "data": {
      "text/html": [
       "<div>\n",
       "<style scoped>\n",
       "    .dataframe tbody tr th:only-of-type {\n",
       "        vertical-align: middle;\n",
       "    }\n",
       "\n",
       "    .dataframe tbody tr th {\n",
       "        vertical-align: top;\n",
       "    }\n",
       "\n",
       "    .dataframe thead th {\n",
       "        text-align: right;\n",
       "    }\n",
       "</style>\n",
       "<table border=\"1\" class=\"dataframe\">\n",
       "  <thead>\n",
       "    <tr style=\"text-align: right;\">\n",
       "      <th></th>\n",
       "      <th>datetime_beginning_utc</th>\n",
       "      <th>datetime_beginning_ept</th>\n",
       "      <th>area</th>\n",
       "      <th>wind_generation_mw</th>\n",
       "    </tr>\n",
       "  </thead>\n",
       "  <tbody>\n",
       "    <tr>\n",
       "      <th>0</th>\n",
       "      <td>10/1/2020 3:00</td>\n",
       "      <td>9/30/2020 23:00</td>\n",
       "      <td>MIDATL</td>\n",
       "      <td>592.332</td>\n",
       "    </tr>\n",
       "    <tr>\n",
       "      <th>1</th>\n",
       "      <td>10/1/2020 3:00</td>\n",
       "      <td>9/30/2020 23:00</td>\n",
       "      <td>SOUTH</td>\n",
       "      <td>97.403</td>\n",
       "    </tr>\n",
       "    <tr>\n",
       "      <th>2</th>\n",
       "      <td>10/1/2020 3:00</td>\n",
       "      <td>9/30/2020 23:00</td>\n",
       "      <td>WEST</td>\n",
       "      <td>3831.633</td>\n",
       "    </tr>\n",
       "    <tr>\n",
       "      <th>3</th>\n",
       "      <td>10/1/2020 3:00</td>\n",
       "      <td>9/30/2020 23:00</td>\n",
       "      <td>RTO</td>\n",
       "      <td>4521.368</td>\n",
       "    </tr>\n",
       "    <tr>\n",
       "      <th>4</th>\n",
       "      <td>10/1/2020 3:00</td>\n",
       "      <td>9/30/2020 23:00</td>\n",
       "      <td>RFC</td>\n",
       "      <td>4423.965</td>\n",
       "    </tr>\n",
       "    <tr>\n",
       "      <th>5</th>\n",
       "      <td>10/1/2020 2:00</td>\n",
       "      <td>9/30/2020 22:00</td>\n",
       "      <td>MIDATL</td>\n",
       "      <td>597.800</td>\n",
       "    </tr>\n",
       "    <tr>\n",
       "      <th>6</th>\n",
       "      <td>10/1/2020 2:00</td>\n",
       "      <td>9/30/2020 22:00</td>\n",
       "      <td>SOUTH</td>\n",
       "      <td>95.961</td>\n",
       "    </tr>\n",
       "    <tr>\n",
       "      <th>7</th>\n",
       "      <td>10/1/2020 2:00</td>\n",
       "      <td>9/30/2020 22:00</td>\n",
       "      <td>WEST</td>\n",
       "      <td>3404.984</td>\n",
       "    </tr>\n",
       "    <tr>\n",
       "      <th>8</th>\n",
       "      <td>10/1/2020 2:00</td>\n",
       "      <td>9/30/2020 22:00</td>\n",
       "      <td>RTO</td>\n",
       "      <td>4098.745</td>\n",
       "    </tr>\n",
       "  </tbody>\n",
       "</table>\n",
       "</div>"
      ],
      "text/plain": [
       "  datetime_beginning_utc datetime_beginning_ept    area  wind_generation_mw\n",
       "0         10/1/2020 3:00        9/30/2020 23:00  MIDATL             592.332\n",
       "1         10/1/2020 3:00        9/30/2020 23:00   SOUTH              97.403\n",
       "2         10/1/2020 3:00        9/30/2020 23:00    WEST            3831.633\n",
       "3         10/1/2020 3:00        9/30/2020 23:00     RTO            4521.368\n",
       "4         10/1/2020 3:00        9/30/2020 23:00     RFC            4423.965\n",
       "5         10/1/2020 2:00        9/30/2020 22:00  MIDATL             597.800\n",
       "6         10/1/2020 2:00        9/30/2020 22:00   SOUTH              95.961\n",
       "7         10/1/2020 2:00        9/30/2020 22:00    WEST            3404.984\n",
       "8         10/1/2020 2:00        9/30/2020 22:00     RTO            4098.745"
      ]
     },
     "execution_count": 4,
     "metadata": {},
     "output_type": "execute_result"
    }
   ],
   "source": [
    "wind.head(9)\n",
    "#going to want to use datetime_beginning_rpt as index and merge all datframes on it, that is accomplished a few cells below"
   ]
  },
  {
   "cell_type": "code",
   "execution_count": 5,
   "metadata": {},
   "outputs": [],
   "source": [
    "pepco_df = pd.concat([pepco_july, pepco_aug, pepco_sep])\n",
    "\n",
    "fuel = pd.concat([fuel_july, fuel_aug, fuel_sep])"
   ]
  },
  {
   "cell_type": "code",
   "execution_count": 6,
   "metadata": {},
   "outputs": [
    {
     "name": "stdout",
     "output_type": "stream",
     "text": [
      "['MIDATL', 'RTO']\n",
      "['MIDATL', 'RTO']\n"
     ]
    }
   ],
   "source": [
    "#the only areas that are untilities operate in are MIDATL & RTO\n",
    "area = ['MIDATL', 'RTO']\n",
    "\n",
    "wind['area'].unique()\n",
    "wind = wind[wind.area.isin(area)]\n",
    "wind.head()\n",
    "\n",
    "\n",
    "solar['area'].unique()\n",
    "solar = solar[solar.area.isin(area)]\n",
    "solar.head()\n",
    "\n",
    "print(list(wind.area.unique()))\n",
    "print(list(solar.area.unique()))"
   ]
  },
  {
   "cell_type": "code",
   "execution_count": 7,
   "metadata": {},
   "outputs": [],
   "source": [
    "pepco = proper_index(pepco_df)\n",
    "pepco = pepco.sort_index()\n",
    "\n",
    "\n",
    "\n",
    "solar = proper_index(solar)\n",
    "solar = solar.sort_index()\n",
    "wind = proper_index(wind)\n",
    "wind = wind.sort_index()\n",
    "\n",
    "fuel = proper_index(fuel)\n",
    "fuel = fuel.sort_index()"
   ]
  },
  {
   "cell_type": "code",
   "execution_count": null,
   "metadata": {},
   "outputs": [],
   "source": [
    "pepco = pd.merge(pepco, wind, how='left', left_index=True, right_index=True)\n",
    "pepco = pd.merge(pepco, solar, how='left', left_index=True, right_index=True)\n",
    "\n"
   ]
  },
  {
   "cell_type": "code",
   "execution_count": null,
   "metadata": {},
   "outputs": [],
   "source": [
    "pepco.dtypes"
   ]
  },
  {
   "cell_type": "code",
   "execution_count": null,
   "metadata": {},
   "outputs": [],
   "source": [
    "pepco =  pd.merge(pepco, fuel, how='left', left_index=True, right_index=True)\n",
    "pepco.head()"
   ]
  },
  {
   "cell_type": "code",
   "execution_count": null,
   "metadata": {},
   "outputs": [],
   "source": [
    "#pepco2 = pd.merge(pepco, pnode_state, how='inner', on='pnode_id')\n",
    "pnode_state = pnode_state.rename({'PNODEID':'pnode_id'}, axis=1)"
   ]
  },
  {
   "cell_type": "code",
   "execution_count": null,
   "metadata": {},
   "outputs": [],
   "source": [
    "pepco['Date-Time'] = pepco.index\n",
    "pepco3 = pd.merge(pepco, pnode_state, how='inner', on='pnode_id')\n"
   ]
  },
  {
   "cell_type": "code",
   "execution_count": null,
   "metadata": {},
   "outputs": [],
   "source": [
    "pepco3['datetime'] = pd.to_datetime(pepco3['Date-Time'])\n",
    "pepco3['datetime'] = pepco3.datetime.dt.strftime('%m/%d/%y %H:%M')\n",
    "pepco3 = pepco3.set_index('datetime')\n"
   ]
  },
  {
   "cell_type": "code",
   "execution_count": null,
   "metadata": {},
   "outputs": [],
   "source": [
    "pepco3 = pepco3.drop(['pnode_name', 'type','Date-Time'], axis=1)"
   ]
  },
  {
   "cell_type": "code",
   "execution_count": null,
   "metadata": {},
   "outputs": [],
   "source": [
    "pepco3 = pepco3.drop(['area_y'], axis=1)\n",
    "pepco3.dtypes"
   ]
  },
  {
   "cell_type": "code",
   "execution_count": null,
   "metadata": {},
   "outputs": [],
   "source": [
    "pepco4 = pepco3[pepco3.row_is_current]\n",
    "pepco4['row_is_current'].unique()\n"
   ]
  },
  {
   "cell_type": "code",
   "execution_count": null,
   "metadata": {},
   "outputs": [],
   "source": [
    "pepco4.describe().T"
   ]
  },
  {
   "cell_type": "code",
   "execution_count": null,
   "metadata": {},
   "outputs": [],
   "source": [
    "missing_values(pepco4)"
   ]
  }
 ],
 "metadata": {
  "kernelspec": {
   "display_name": "Python 3",
   "language": "python",
   "name": "python3"
  },
  "language_info": {
   "codemirror_mode": {
    "name": "ipython",
    "version": 3
   },
   "file_extension": ".py",
   "mimetype": "text/x-python",
   "name": "python",
   "nbconvert_exporter": "python",
   "pygments_lexer": "ipython3",
   "version": "3.7.6"
  }
 },
 "nbformat": 4,
 "nbformat_minor": 4
}
