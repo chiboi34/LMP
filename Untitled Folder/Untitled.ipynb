{
 "cells": [
  {
   "cell_type": "code",
   "execution_count": 1,
   "metadata": {},
   "outputs": [],
   "source": [
    "import pandas as pd\n",
    "import matplotlib.pyplot as plt\n",
    "import seaborn as sns\n",
    "import os\n",
    "from datetime import datetime "
   ]
  },
  {
   "cell_type": "code",
   "execution_count": 2,
   "metadata": {},
   "outputs": [
    {
     "data": {
      "text/plain": [
       "'C:\\\\Users\\\\Gabe\\\\Desktop\\\\Python\\\\Springboard\\\\LMP\\\\Untitled Folder'"
      ]
     },
     "execution_count": 2,
     "metadata": {},
     "output_type": "execute_result"
    }
   ],
   "source": [
    "cwd"
   ]
  },
  {
   "cell_type": "code",
   "execution_count": 3,
   "metadata": {},
   "outputs": [],
   "source": [
    "#duke is sw ohio, renewable area: rto\n",
    "duke_july = pd.read_csv('../Duke/rt_hrl_lmps_jul_duke.csv')\n",
    "duke_aug = pd.read_csv('../Duke/rt_hrl_lmps_aug_duke.csv')\n",
    "duke_sep = pd.read_csv('../Duke/rt_hrl_lmps_sep_duke.csv')\n",
    "#pepco is se corner of pennsylvania, renewable area: mid-atlantic  \n",
    "pepco_july = pd.read_csv('../Pepco/rt_hrl_lmps_jul_pepco.csv')\n",
    "pepco_aug = pd.read_csv('../Pepco/rt_hrl_lmps_aug_pepco.csv')\n",
    "pepco_sep =pd.read_csv('../Pepco/rt_hrl_lmps_sep_pepco.csv')\n",
    "#pseg is mid New Jersey, renewable area: mid-atlantic \n",
    "pseg_july = pd.read_csv('../Pseg/rt_hrl_lmps_jul_pseg.csv')\n",
    "pseg_aug = pd.read_csv('../Pseg/rt_hrl_lmps_aug_pseg.csv')\n",
    "pseg_sep =pd.read_csv('../Pseg/rt_hrl_lmps_sept_pseg.csv')"
   ]
  },
  {
   "cell_type": "code",
   "execution_count": null,
   "metadata": {},
   "outputs": [],
   "source": [
    "pepco_df.head()"
   ]
  },
  {
   "cell_type": "code",
   "execution_count": null,
   "metadata": {},
   "outputs": [],
   "source": [
    "#concatenate the utitlity datframes, so each utlity has a datframe that spans our three-month observation period \n",
    "duke_df = pd.concat([duke_july, duke_aug, duke_sep])\n",
    "pepco_df = pd.concat([pepco_july, pepco_aug, pepco_sep])\n",
    "pseg_df = pd.concat([pseg_july, pseg_aug, pseg_sep])\n",
    "type(pseg_df.datetime_beginning_ept[0])"
   ]
  },
  {
   "cell_type": "code",
   "execution_count": null,
   "metadata": {},
   "outputs": [],
   "source": [
    "print(list(pseg_df.columns))\n",
    "pseg_df.head()"
   ]
  },
  {
   "cell_type": "code",
   "execution_count": null,
   "metadata": {},
   "outputs": [],
   "source": [
    "duke_df['datetime'] = pd.to_datetime(duke_df['datetime_beginning_ept'])\n",
    "duke_df['datetime'] = duke_df.datetime.dt.strftime('%m/%d/%y %H:%M')\n",
    "duke_df = duke_df.set_index('datetime')\n",
    "duke_df = duke_df.drop(['datetime_beginning_utc', 'datetime_beginning_ept'], axis=1)\n",
    "duke_df.head()\n",
    "\n",
    "\n",
    "    \n",
    "    "
   ]
  },
  {
   "cell_type": "code",
   "execution_count": null,
   "metadata": {},
   "outputs": [],
   "source": [
    "def proper_index(df):\n",
    "    df['datetime'] = pd.to_datetime(df['datetime_beginning_ept'])\n",
    "    df['datetime'] = df.datetime.dt.strftime('%m/%d/%y %H:%M')\n",
    "    df = df.set_index('datetime')\n",
    "    df = df.drop(['datetime_beginning_utc', 'datetime_beginning_ept'], axis=1)\n",
    "    return df"
   ]
  },
  {
   "cell_type": "code",
   "execution_count": null,
   "metadata": {},
   "outputs": [],
   "source": [
    "pepco_df = proper_index(pepco_df)\n",
    "pepco_df.head()"
   ]
  },
  {
   "cell_type": "code",
   "execution_count": null,
   "metadata": {},
   "outputs": [],
   "source": [
    "\n",
    "#duke_df['datetime'] = pd.to_datetime(duke_df['datetime_beginning_ept'])\n",
    "##duke_df['datetime'] = datetime.strptime(\"%m/%d/%Y %H:%M:%S\")\n",
    "#duke_df = duke_df.set_index('datetime')\n",
    "#duke_df = duke_df.drop(['datetime_beginning_utc', 'datetime_beginning_ept'], axis=1)\n",
    "#duke_df.head()\n",
    "\n",
    "\n",
    "\n",
    "#pepco_df['datetime'] = pd.to_datetime(pepco_df['datetime_beginning_ept'])\n",
    "#pepco_df = pepco_df.set_index('datetime')\n",
    "#pepco_df = pepco_df.drop(['datetime_beginning_utc', 'datetime_beginning_ept'], axis=1)\n",
    "#pepco_df.head()\n",
    "\n",
    "#pseg_df['datetime'] = pd.to_datetime(pseg_df['datetime_beginning_ept'])\n",
    "#pseg_df = pseg_df.set_index('datetime')\n",
    "#pseg_df = pseg_df.drop(['datetime_beginning_utc', 'datetime_beginning_ept'], axis=1)\n",
    "#pseg_df.head()\n",
    "\n",
    "pseg_df = proper_index(pseg_df)\n"
   ]
  },
  {
   "cell_type": "code",
   "execution_count": null,
   "metadata": {},
   "outputs": [],
   "source": [
    "pseg_df = proper_index(pseg_df)\n",
    "pseg_df.head()"
   ]
  },
  {
   "cell_type": "code",
   "execution_count": null,
   "metadata": {},
   "outputs": [],
   "source": [
    "zips = pd.read_excel('../zip-code-mapping.xls')\n",
    "zips.head(15)\n",
    "###I am going to want ot use index row 8 as my column headers and reset index with index row 9 becoming the first row of our new dataset "
   ]
  },
  {
   "cell_type": "code",
   "execution_count": null,
   "metadata": {},
   "outputs": [],
   "source": [
    "zips_clean = pd.read_excel('../zip-code-mapping.xls', header=9)\n",
    "zips_clean.head()\n"
   ]
  },
  {
   "cell_type": "code",
   "execution_count": null,
   "metadata": {},
   "outputs": [],
   "source": [
    "pnode_state = pd.read_excel('../pnode-by-state.xls', header=6)\n",
    "pnode_state.head()\n",
    "#since i dont think i need city, i'm going to use this df as opposed to zips"
   ]
  },
  {
   "cell_type": "code",
   "execution_count": null,
   "metadata": {},
   "outputs": [],
   "source": [
    "#the only areas of interest to us are MIDATL & RTO\n",
    "\n",
    "solar_gen = pd.read_csv('../solar_gen.csv')\n",
    "wind_gen = pd.read_csv('../wind_gen.csv')\n",
    "wind_gen.info(10)"
   ]
  },
  {
   "cell_type": "code",
   "execution_count": null,
   "metadata": {},
   "outputs": [],
   "source": [
    "wind_gen.head()"
   ]
  },
  {
   "cell_type": "code",
   "execution_count": null,
   "metadata": {},
   "outputs": [],
   "source": [
    "#but first make sure that there are no variations of midatl & rto \n",
    "#additional issue is that the times are from most recent to least \n",
    "#\n",
    "area = ['MIDATL', 'RTO']\n",
    "wind_gen['area'].unique()\n",
    "wind = wind_gen[wind_gen.area.isin(area)]\n",
    "wind.head()\n",
    "\n",
    "area = ['MIDATL', 'RTO']\n",
    "solar_gen['area'].unique()\n",
    "solar = solar_gen[solar_gen.area.isin(area)]\n",
    "solar.head()\n",
    "wind.area.unique()\n",
    "\n",
    "#def clean_up_index(df):\n",
    "   # df['datetime'] = pd.to_datetime(df['datetime_beginning_ept'])\n",
    "    #df = df.set_index('datetime')\n",
    "    #df = df.drop(['datetime_beginning_utc', 'datetime_beginning_ept'], axis=1)\n",
    "    #df.head()\n",
    "    #return df\n",
    "def proper_index(df):\n",
    "    df['datetime'] = pd.to_datetime(df['datetime_beginning_ept'])\n",
    "    df['datetime'] = df.datetime.dt.strftime('%m/%d/%y %H:%M')\n",
    "    df = df.set_index('datetime')\n",
    "    df = df.drop(['datetime_beginning_utc', 'datetime_beginning_ept'], axis=1)\n",
    "    return df\n",
    "\n",
    "solar_2 = proper_index(solar)\n",
    "wind_2 = proper_index(wind)\n",
    "wind_2.head()"
   ]
  },
  {
   "cell_type": "code",
   "execution_count": null,
   "metadata": {},
   "outputs": [],
   "source": [
    "wind_2 = wind_2.sort_index()\n",
    "wind_2.head()"
   ]
  },
  {
   "cell_type": "code",
   "execution_count": null,
   "metadata": {},
   "outputs": [],
   "source": [
    "pepco_df=pd.merge(pepco_df,wind_2, how='left', left_index=True, right_index=True)\n",
    "pepco_df.head()\n"
   ]
  },
  {
   "cell_type": "markdown",
   "metadata": {},
   "source": []
  },
  {
   "cell_type": "code",
   "execution_count": null,
   "metadata": {},
   "outputs": [],
   "source": [
    "\n",
    "solar_2 = solar_2.sort_index()\n",
    "solar_2.head()\n",
    "pepco_df=pd.merge(pepco_df,solar_2, how='left', left_index=True, right_index=True)\n",
    "pepco_df.head()"
   ]
  },
  {
   "cell_type": "code",
   "execution_count": null,
   "metadata": {},
   "outputs": [],
   "source": [
    "#missing = pd.concat([duke_july.isnull().sum(), 100 * duke_july.isnull().mean()], axis=1)\n",
    "#missing.columns=(['count', '%'])\n",
    "#missing.sort_values(by='count', ascending=False)\n",
    "\n",
    "def missing_values(df):\n",
    "    missing = pd.concat([df.isnull().sum(), 100 * df.isnull().mean()], axis=1)\n",
    "    missing.columns=(['count', '%'])\n",
    "    missing.sort_values(by='count', ascending=False)\n",
    "    return missing \n",
    "    "
   ]
  },
  {
   "cell_type": "code",
   "execution_count": null,
   "metadata": {},
   "outputs": [],
   "source": [
    "pepco_merge_wind = missing_values(merge)\n",
    "print(pepco_merge_wind)"
   ]
  },
  {
   "cell_type": "code",
   "execution_count": null,
   "metadata": {},
   "outputs": [],
   "source": [
    "pepco_missing = missing_values(pepco_df)\n",
    "duke_missing = missing_values(duke_df)\n",
    "pseg_missing = missing_values(pseg_df)\n",
    "\n",
    "print(pseg_missing)\n",
    "print(duke_missing)\n",
    "print(pepco_missing)"
   ]
  },
  {
   "cell_type": "code",
   "execution_count": null,
   "metadata": {},
   "outputs": [],
   "source": [
    "fuel_aug=pd.read_csv('../Fuel Type/gen_by_fuel_aug.csv')\n",
    "fuel_july=pd.read_csv('../Fuel Type/gen_by_fuel_jul.csv')\n",
    "fuel_sep=pd.read_csv('../Fuel Type/gen_by_fuel_sep.csv')"
   ]
  },
  {
   "cell_type": "code",
   "execution_count": null,
   "metadata": {},
   "outputs": [],
   "source": [
    "fuel = pd.concat([fuel_july, fuel_aug, fuel_sep])\n",
    "fuel.head()"
   ]
  },
  {
   "cell_type": "code",
   "execution_count": null,
   "metadata": {},
   "outputs": [],
   "source": [
    "fuel = proper_index(fuel)\n",
    "fuel.head()\n"
   ]
  },
  {
   "cell_type": "code",
   "execution_count": null,
   "metadata": {},
   "outputs": [],
   "source": [
    "fuel = fuel.sort_index()\n",
    "fuel.head()"
   ]
  },
  {
   "cell_type": "code",
   "execution_count": null,
   "metadata": {},
   "outputs": [],
   "source": []
  },
  {
   "cell_type": "code",
   "execution_count": null,
   "metadata": {},
   "outputs": [],
   "source": [
    "#merge=pd.merge(df,d, how='inner', left_index=True, right_index=True)\n"
   ]
  }
 ],
 "metadata": {
  "kernelspec": {
   "display_name": "Python 3",
   "language": "python",
   "name": "python3"
  },
  "language_info": {
   "codemirror_mode": {
    "name": "ipython",
    "version": 3
   },
   "file_extension": ".py",
   "mimetype": "text/x-python",
   "name": "python",
   "nbconvert_exporter": "python",
   "pygments_lexer": "ipython3",
   "version": "3.7.6"
  }
 },
 "nbformat": 4,
 "nbformat_minor": 4
}
